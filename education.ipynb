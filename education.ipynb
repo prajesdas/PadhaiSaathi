{
 "cells": [
  {
   "cell_type": "markdown",
   "id": "ccd99421",
   "metadata": {},
   "source": [
    "# import libraries"
   ]
  },
  {
   "cell_type": "code",
   "execution_count": 20,
   "id": "186b0bdb",
   "metadata": {},
   "outputs": [],
   "source": [
    "import pandas as pd\n",
    "import numpy as np\n",
    "import seaborn as sns\n",
    "import matplotlib.pyplot as plt\n"
   ]
  },
  {
   "cell_type": "markdown",
   "id": "4e1040a7",
   "metadata": {},
   "source": [
    "# LOAD DATASETS"
   ]
  },
  {
   "cell_type": "code",
   "execution_count": 21,
   "id": "b16de8bb",
   "metadata": {},
   "outputs": [],
   "source": [
    "data=pd.read_csv(\"C:\\\\Users\\\\PRAJES DAS\\\\Downloads\\\\education_suggestion.csv\")"
   ]
  },
  {
   "cell_type": "code",
   "execution_count": 22,
   "id": "5b78908d",
   "metadata": {},
   "outputs": [
    {
     "data": {
      "text/html": [
       "<div>\n",
       "<style scoped>\n",
       "    .dataframe tbody tr th:only-of-type {\n",
       "        vertical-align: middle;\n",
       "    }\n",
       "\n",
       "    .dataframe tbody tr th {\n",
       "        vertical-align: top;\n",
       "    }\n",
       "\n",
       "    .dataframe thead th {\n",
       "        text-align: right;\n",
       "    }\n",
       "</style>\n",
       "<table border=\"1\" class=\"dataframe\">\n",
       "  <thead>\n",
       "    <tr style=\"text-align: right;\">\n",
       "      <th></th>\n",
       "      <th>Subject</th>\n",
       "      <th>User_Language</th>\n",
       "      <th>User_Level</th>\n",
       "      <th>Text_Book</th>\n",
       "      <th>Online_Course</th>\n",
       "      <th>Suggested_App</th>\n",
       "    </tr>\n",
       "  </thead>\n",
       "  <tbody>\n",
       "    <tr>\n",
       "      <th>0</th>\n",
       "      <td>Mathematics</td>\n",
       "      <td>English</td>\n",
       "      <td>Advanced</td>\n",
       "      <td>\"Calculus\" by James Stewart</td>\n",
       "      <td>\"Introduction to Probability and Data\" by Duke...</td>\n",
       "      <td>edX</td>\n",
       "    </tr>\n",
       "    <tr>\n",
       "      <th>1</th>\n",
       "      <td>English Language</td>\n",
       "      <td>Hindi</td>\n",
       "      <td>Beginner</td>\n",
       "      <td>\"The Norton Anthology of English Literature\" e...</td>\n",
       "      <td>\"English Grammar Launch: Upgrade your speaking...</td>\n",
       "      <td>Udemy</td>\n",
       "    </tr>\n",
       "    <tr>\n",
       "      <th>2</th>\n",
       "      <td>History</td>\n",
       "      <td>English</td>\n",
       "      <td>Intermediate</td>\n",
       "      <td>\"A People's History of the United States\" by H...</td>\n",
       "      <td>\"The Modern World, Part One: Global History fr...</td>\n",
       "      <td>Coursera</td>\n",
       "    </tr>\n",
       "    <tr>\n",
       "      <th>3</th>\n",
       "      <td>Science</td>\n",
       "      <td>Hindi</td>\n",
       "      <td>Advanced</td>\n",
       "      <td>NCERT</td>\n",
       "      <td>\"Introduction to  science :pratham batch\"</td>\n",
       "      <td>edX</td>\n",
       "    </tr>\n",
       "    <tr>\n",
       "      <th>4</th>\n",
       "      <td>Geography</td>\n",
       "      <td>English</td>\n",
       "      <td>Beginner</td>\n",
       "      <td>\"Geosystems: An Introduction to Physical Geogr...</td>\n",
       "      <td>\"The Complete Geography Course: Teach Yoursel...</td>\n",
       "      <td>Udemy</td>\n",
       "    </tr>\n",
       "    <tr>\n",
       "      <th>...</th>\n",
       "      <td>...</td>\n",
       "      <td>...</td>\n",
       "      <td>...</td>\n",
       "      <td>...</td>\n",
       "      <td>...</td>\n",
       "      <td>...</td>\n",
       "    </tr>\n",
       "    <tr>\n",
       "      <th>95</th>\n",
       "      <td>Product Design</td>\n",
       "      <td>Hindi</td>\n",
       "      <td>Advanced</td>\n",
       "      <td>\"Product Design and Development\" by Karl Ulric...</td>\n",
       "      <td>Udemy: Product Design: Complete Guide in 2021...</td>\n",
       "      <td>Udemy</td>\n",
       "    </tr>\n",
       "    <tr>\n",
       "      <th>96</th>\n",
       "      <td>Architecture</td>\n",
       "      <td>English</td>\n",
       "      <td>Beginner</td>\n",
       "      <td>\"Architecture: Form, Space, and Order\" by Fran...</td>\n",
       "      <td>edX: Architecture by Harvard University</td>\n",
       "      <td>edX</td>\n",
       "    </tr>\n",
       "    <tr>\n",
       "      <th>97</th>\n",
       "      <td>Urban Planning</td>\n",
       "      <td>Hindi</td>\n",
       "      <td>Advanced</td>\n",
       "      <td>Urban Planning and Design Criteria\" by Frederi...</td>\n",
       "      <td>Udemy: Introduction to Urban Planning by Micha...</td>\n",
       "      <td>Udemy</td>\n",
       "    </tr>\n",
       "    <tr>\n",
       "      <th>98</th>\n",
       "      <td>Landscape Architecture</td>\n",
       "      <td>English</td>\n",
       "      <td>Beginner</td>\n",
       "      <td>\"Landscape Architecture: A Manual of Environme...</td>\n",
       "      <td>Coursera: Landscape Architecture by University...</td>\n",
       "      <td>Coursera</td>\n",
       "    </tr>\n",
       "    <tr>\n",
       "      <th>99</th>\n",
       "      <td>Education</td>\n",
       "      <td>Hindi</td>\n",
       "      <td>Intermediate</td>\n",
       "      <td>\"How Learning Works: Seven Research-Based Prin...</td>\n",
       "      <td>Coursera: Foundations of Teaching for Learnin...</td>\n",
       "      <td>Coursera</td>\n",
       "    </tr>\n",
       "  </tbody>\n",
       "</table>\n",
       "<p>100 rows × 6 columns</p>\n",
       "</div>"
      ],
      "text/plain": [
       "                   Subject User_Language    User_Level  \\\n",
       "0              Mathematics       English      Advanced   \n",
       "1         English Language         Hindi      Beginner   \n",
       "2                  History       English  Intermediate   \n",
       "3                  Science         Hindi      Advanced   \n",
       "4                Geography       English      Beginner   \n",
       "..                     ...           ...           ...   \n",
       "95          Product Design         Hindi      Advanced   \n",
       "96            Architecture       English      Beginner   \n",
       "97          Urban Planning         Hindi      Advanced   \n",
       "98  Landscape Architecture       English      Beginner   \n",
       "99               Education         Hindi  Intermediate   \n",
       "\n",
       "                                            Text_Book  \\\n",
       "0                         \"Calculus\" by James Stewart   \n",
       "1   \"The Norton Anthology of English Literature\" e...   \n",
       "2   \"A People's History of the United States\" by H...   \n",
       "3                                               NCERT   \n",
       "4   \"Geosystems: An Introduction to Physical Geogr...   \n",
       "..                                                ...   \n",
       "95  \"Product Design and Development\" by Karl Ulric...   \n",
       "96  \"Architecture: Form, Space, and Order\" by Fran...   \n",
       "97  Urban Planning and Design Criteria\" by Frederi...   \n",
       "98  \"Landscape Architecture: A Manual of Environme...   \n",
       "99  \"How Learning Works: Seven Research-Based Prin...   \n",
       "\n",
       "                                        Online_Course Suggested_App  \n",
       "0   \"Introduction to Probability and Data\" by Duke...           edX  \n",
       "1   \"English Grammar Launch: Upgrade your speaking...         Udemy  \n",
       "2   \"The Modern World, Part One: Global History fr...      Coursera  \n",
       "3           \"Introduction to  science :pratham batch\"           edX  \n",
       "4    \"The Complete Geography Course: Teach Yoursel...         Udemy  \n",
       "..                                                ...           ...  \n",
       "95   Udemy: Product Design: Complete Guide in 2021...         Udemy  \n",
       "96            edX: Architecture by Harvard University           edX  \n",
       "97  Udemy: Introduction to Urban Planning by Micha...         Udemy  \n",
       "98  Coursera: Landscape Architecture by University...      Coursera  \n",
       "99   Coursera: Foundations of Teaching for Learnin...      Coursera  \n",
       "\n",
       "[100 rows x 6 columns]"
      ]
     },
     "execution_count": 22,
     "metadata": {},
     "output_type": "execute_result"
    }
   ],
   "source": [
    "data"
   ]
  },
  {
   "cell_type": "markdown",
   "id": "fb10ee70",
   "metadata": {},
   "source": [
    "# EXPLOARATORY DATA ANALYSIS"
   ]
  },
  {
   "cell_type": "code",
   "execution_count": 23,
   "id": "8d6245ab",
   "metadata": {},
   "outputs": [
    {
     "data": {
      "text/plain": [
       "(100, 6)"
      ]
     },
     "execution_count": 23,
     "metadata": {},
     "output_type": "execute_result"
    }
   ],
   "source": [
    "data.shape"
   ]
  },
  {
   "cell_type": "code",
   "execution_count": 24,
   "id": "5a4cb7e9",
   "metadata": {},
   "outputs": [
    {
     "data": {
      "text/plain": [
       "Subject          0\n",
       "User_Language    0\n",
       "User_Level       0\n",
       "Text_Book        0\n",
       "Online_Course    0\n",
       "Suggested_App    0\n",
       "dtype: int64"
      ]
     },
     "execution_count": 24,
     "metadata": {},
     "output_type": "execute_result"
    }
   ],
   "source": [
    "#checjing missing values\n",
    "data.isnull().sum()"
   ]
  },
  {
   "cell_type": "code",
   "execution_count": 25,
   "id": "a45c714b",
   "metadata": {},
   "outputs": [
    {
     "data": {
      "text/plain": [
       "0"
      ]
     },
     "execution_count": 25,
     "metadata": {},
     "output_type": "execute_result"
    }
   ],
   "source": [
    "#check duplicate\n",
    "data.duplicated().sum()"
   ]
  },
  {
   "cell_type": "code",
   "execution_count": 26,
   "id": "eaac1fe0",
   "metadata": {},
   "outputs": [
    {
     "name": "stdout",
     "output_type": "stream",
     "text": [
      "<class 'pandas.core.frame.DataFrame'>\n",
      "RangeIndex: 100 entries, 0 to 99\n",
      "Data columns (total 6 columns):\n",
      " #   Column         Non-Null Count  Dtype \n",
      "---  ------         --------------  ----- \n",
      " 0   Subject        100 non-null    object\n",
      " 1   User_Language  100 non-null    object\n",
      " 2   User_Level     100 non-null    object\n",
      " 3   Text_Book      100 non-null    object\n",
      " 4   Online_Course  100 non-null    object\n",
      " 5   Suggested_App  100 non-null    object\n",
      "dtypes: object(6)\n",
      "memory usage: 4.8+ KB\n"
     ]
    }
   ],
   "source": [
    "#check data types\n",
    "data.info()"
   ]
  },
  {
   "cell_type": "code",
   "execution_count": 27,
   "id": "5d7e009c",
   "metadata": {},
   "outputs": [
    {
     "data": {
      "text/html": [
       "<div>\n",
       "<style scoped>\n",
       "    .dataframe tbody tr th:only-of-type {\n",
       "        vertical-align: middle;\n",
       "    }\n",
       "\n",
       "    .dataframe tbody tr th {\n",
       "        vertical-align: top;\n",
       "    }\n",
       "\n",
       "    .dataframe thead th {\n",
       "        text-align: right;\n",
       "    }\n",
       "</style>\n",
       "<table border=\"1\" class=\"dataframe\">\n",
       "  <thead>\n",
       "    <tr style=\"text-align: right;\">\n",
       "      <th></th>\n",
       "      <th>Subject</th>\n",
       "      <th>User_Language</th>\n",
       "      <th>User_Level</th>\n",
       "      <th>Text_Book</th>\n",
       "      <th>Online_Course</th>\n",
       "      <th>Suggested_App</th>\n",
       "    </tr>\n",
       "  </thead>\n",
       "  <tbody>\n",
       "    <tr>\n",
       "      <th>count</th>\n",
       "      <td>100</td>\n",
       "      <td>100</td>\n",
       "      <td>100</td>\n",
       "      <td>100</td>\n",
       "      <td>100</td>\n",
       "      <td>100</td>\n",
       "    </tr>\n",
       "    <tr>\n",
       "      <th>unique</th>\n",
       "      <td>100</td>\n",
       "      <td>2</td>\n",
       "      <td>3</td>\n",
       "      <td>100</td>\n",
       "      <td>100</td>\n",
       "      <td>3</td>\n",
       "    </tr>\n",
       "    <tr>\n",
       "      <th>top</th>\n",
       "      <td>Mathematics</td>\n",
       "      <td>English</td>\n",
       "      <td>Advanced</td>\n",
       "      <td>\"Calculus\" by James Stewart</td>\n",
       "      <td>\"Introduction to Probability and Data\" by Duke...</td>\n",
       "      <td>Coursera</td>\n",
       "    </tr>\n",
       "    <tr>\n",
       "      <th>freq</th>\n",
       "      <td>1</td>\n",
       "      <td>50</td>\n",
       "      <td>37</td>\n",
       "      <td>1</td>\n",
       "      <td>1</td>\n",
       "      <td>48</td>\n",
       "    </tr>\n",
       "  </tbody>\n",
       "</table>\n",
       "</div>"
      ],
      "text/plain": [
       "             Subject User_Language User_Level                    Text_Book  \\\n",
       "count            100           100        100                          100   \n",
       "unique           100             2          3                          100   \n",
       "top      Mathematics       English   Advanced  \"Calculus\" by James Stewart   \n",
       "freq               1            50         37                            1   \n",
       "\n",
       "                                            Online_Course Suggested_App  \n",
       "count                                                 100           100  \n",
       "unique                                                100             3  \n",
       "top     \"Introduction to Probability and Data\" by Duke...      Coursera  \n",
       "freq                                                    1            48  "
      ]
     },
     "execution_count": 27,
     "metadata": {},
     "output_type": "execute_result"
    }
   ],
   "source": [
    "data.describe()"
   ]
  },
  {
   "cell_type": "markdown",
   "id": "80d4143c",
   "metadata": {},
   "source": [
    "#  TEST AND TRAIN THE MODEL"
   ]
  },
  {
   "cell_type": "code",
   "execution_count": 28,
   "id": "61e8c7cf",
   "metadata": {},
   "outputs": [],
   "source": [
    "import pandas as pd\n",
    "from sklearn.model_selection import train_test_split\n",
    "from sklearn.tree import DecisionTreeClassifier\n",
    "from sklearn.preprocessing import OneHotEncoder\n"
   ]
  },
  {
   "cell_type": "code",
   "execution_count": 29,
   "id": "acd3eb74",
   "metadata": {},
   "outputs": [],
   "source": [
    "# Separate features and target variable\n",
    "X = data.drop(['Text_Book', 'Online_Course', 'Suggested_App'], axis=1)\n",
    "y_textbook = data['Text_Book']\n",
    "y_online_course = data['Online_Course']\n",
    "y_suggested_app = data['Suggested_App']"
   ]
  },
  {
   "cell_type": "code",
   "execution_count": 30,
   "id": "8c2811d2",
   "metadata": {},
   "outputs": [],
   "source": [
    "# # One-hot encode categorical variables\n",
    "# X_encoded = pd.get_dummies(X)"
   ]
  },
  {
   "cell_type": "code",
   "execution_count": 31,
   "id": "2bf3c968",
   "metadata": {},
   "outputs": [],
   "source": [
    "# X_encoded.corr()\n"
   ]
  },
  {
   "cell_type": "code",
   "execution_count": 32,
   "id": "ffe4516a",
   "metadata": {},
   "outputs": [],
   "source": [
    "import pandas as pd\n",
    "from sklearn.preprocessing import LabelEncoder"
   ]
  },
  {
   "cell_type": "code",
   "execution_count": 33,
   "id": "46c52c6e",
   "metadata": {},
   "outputs": [],
   "source": [
    "# Initialize a LabelEncoder object\n",
    "label_encoder = LabelEncoder()\n",
    "\n",
    "# Encode categorical columns\n",
    "data['Subject'] = label_encoder.fit_transform(data['Subject'])\n",
    "data['User_Language'] = label_encoder.fit_transform(data['User_Language'])\n",
    "data['User_Level'] = label_encoder.fit_transform(data['User_Level'])\n",
    "data['Text_Book'] = label_encoder.fit_transform(data['Text_Book'])\n",
    "data['Online_Course'] = label_encoder.fit_transform(data['Online_Course'])\n",
    "data['Suggested_App'] = label_encoder.fit_transform(data['Suggested_App'])\n"
   ]
  },
  {
   "cell_type": "code",
   "execution_count": 34,
   "id": "dc2a92e9",
   "metadata": {},
   "outputs": [
    {
     "data": {
      "text/html": [
       "<div>\n",
       "<style scoped>\n",
       "    .dataframe tbody tr th:only-of-type {\n",
       "        vertical-align: middle;\n",
       "    }\n",
       "\n",
       "    .dataframe tbody tr th {\n",
       "        vertical-align: top;\n",
       "    }\n",
       "\n",
       "    .dataframe thead th {\n",
       "        text-align: right;\n",
       "    }\n",
       "</style>\n",
       "<table border=\"1\" class=\"dataframe\">\n",
       "  <thead>\n",
       "    <tr style=\"text-align: right;\">\n",
       "      <th></th>\n",
       "      <th>Subject</th>\n",
       "      <th>User_Language</th>\n",
       "      <th>User_Level</th>\n",
       "      <th>Text_Book</th>\n",
       "      <th>Online_Course</th>\n",
       "      <th>Suggested_App</th>\n",
       "    </tr>\n",
       "  </thead>\n",
       "  <tbody>\n",
       "    <tr>\n",
       "      <th>Subject</th>\n",
       "      <td>1.000000</td>\n",
       "      <td>0.253585</td>\n",
       "      <td>-0.081074</td>\n",
       "      <td>0.360120</td>\n",
       "      <td>0.189055</td>\n",
       "      <td>0.076069</td>\n",
       "    </tr>\n",
       "    <tr>\n",
       "      <th>User_Language</th>\n",
       "      <td>0.253585</td>\n",
       "      <td>1.000000</td>\n",
       "      <td>0.012481</td>\n",
       "      <td>0.140650</td>\n",
       "      <td>0.071364</td>\n",
       "      <td>0.081832</td>\n",
       "    </tr>\n",
       "    <tr>\n",
       "      <th>User_Level</th>\n",
       "      <td>-0.081074</td>\n",
       "      <td>0.012481</td>\n",
       "      <td>1.000000</td>\n",
       "      <td>0.094910</td>\n",
       "      <td>-0.089722</td>\n",
       "      <td>-0.151164</td>\n",
       "    </tr>\n",
       "    <tr>\n",
       "      <th>Text_Book</th>\n",
       "      <td>0.360120</td>\n",
       "      <td>0.140650</td>\n",
       "      <td>0.094910</td>\n",
       "      <td>1.000000</td>\n",
       "      <td>-0.147555</td>\n",
       "      <td>-0.017954</td>\n",
       "    </tr>\n",
       "    <tr>\n",
       "      <th>Online_Course</th>\n",
       "      <td>0.189055</td>\n",
       "      <td>0.071364</td>\n",
       "      <td>-0.089722</td>\n",
       "      <td>-0.147555</td>\n",
       "      <td>1.000000</td>\n",
       "      <td>0.402080</td>\n",
       "    </tr>\n",
       "    <tr>\n",
       "      <th>Suggested_App</th>\n",
       "      <td>0.076069</td>\n",
       "      <td>0.081832</td>\n",
       "      <td>-0.151164</td>\n",
       "      <td>-0.017954</td>\n",
       "      <td>0.402080</td>\n",
       "      <td>1.000000</td>\n",
       "    </tr>\n",
       "  </tbody>\n",
       "</table>\n",
       "</div>"
      ],
      "text/plain": [
       "                Subject  User_Language  User_Level  Text_Book  Online_Course  \\\n",
       "Subject        1.000000       0.253585   -0.081074   0.360120       0.189055   \n",
       "User_Language  0.253585       1.000000    0.012481   0.140650       0.071364   \n",
       "User_Level    -0.081074       0.012481    1.000000   0.094910      -0.089722   \n",
       "Text_Book      0.360120       0.140650    0.094910   1.000000      -0.147555   \n",
       "Online_Course  0.189055       0.071364   -0.089722  -0.147555       1.000000   \n",
       "Suggested_App  0.076069       0.081832   -0.151164  -0.017954       0.402080   \n",
       "\n",
       "               Suggested_App  \n",
       "Subject             0.076069  \n",
       "User_Language       0.081832  \n",
       "User_Level         -0.151164  \n",
       "Text_Book          -0.017954  \n",
       "Online_Course       0.402080  \n",
       "Suggested_App       1.000000  "
      ]
     },
     "execution_count": 34,
     "metadata": {},
     "output_type": "execute_result"
    }
   ],
   "source": [
    "data.corr()"
   ]
  },
  {
   "cell_type": "code",
   "execution_count": 35,
   "id": "c699a427",
   "metadata": {},
   "outputs": [
    {
     "data": {
      "text/html": [
       "<div>\n",
       "<style scoped>\n",
       "    .dataframe tbody tr th:only-of-type {\n",
       "        vertical-align: middle;\n",
       "    }\n",
       "\n",
       "    .dataframe tbody tr th {\n",
       "        vertical-align: top;\n",
       "    }\n",
       "\n",
       "    .dataframe thead th {\n",
       "        text-align: right;\n",
       "    }\n",
       "</style>\n",
       "<table border=\"1\" class=\"dataframe\">\n",
       "  <thead>\n",
       "    <tr style=\"text-align: right;\">\n",
       "      <th></th>\n",
       "      <th>Subject</th>\n",
       "      <th>User_Language</th>\n",
       "      <th>User_Level</th>\n",
       "      <th>Text_Book</th>\n",
       "      <th>Online_Course</th>\n",
       "      <th>Suggested_App</th>\n",
       "    </tr>\n",
       "  </thead>\n",
       "  <tbody>\n",
       "    <tr>\n",
       "      <th>0</th>\n",
       "      <td>22</td>\n",
       "      <td>0</td>\n",
       "      <td>0</td>\n",
       "      <td>14</td>\n",
       "      <td>34</td>\n",
       "      <td>2</td>\n",
       "    </tr>\n",
       "    <tr>\n",
       "      <th>1</th>\n",
       "      <td>9</td>\n",
       "      <td>1</td>\n",
       "      <td>1</td>\n",
       "      <td>84</td>\n",
       "      <td>32</td>\n",
       "      <td>1</td>\n",
       "    </tr>\n",
       "    <tr>\n",
       "      <th>2</th>\n",
       "      <td>16</td>\n",
       "      <td>0</td>\n",
       "      <td>2</td>\n",
       "      <td>3</td>\n",
       "      <td>35</td>\n",
       "      <td>0</td>\n",
       "    </tr>\n",
       "    <tr>\n",
       "      <th>3</th>\n",
       "      <td>89</td>\n",
       "      <td>1</td>\n",
       "      <td>0</td>\n",
       "      <td>98</td>\n",
       "      <td>33</td>\n",
       "      <td>2</td>\n",
       "    </tr>\n",
       "    <tr>\n",
       "      <th>4</th>\n",
       "      <td>13</td>\n",
       "      <td>0</td>\n",
       "      <td>1</td>\n",
       "      <td>34</td>\n",
       "      <td>11</td>\n",
       "      <td>1</td>\n",
       "    </tr>\n",
       "    <tr>\n",
       "      <th>...</th>\n",
       "      <td>...</td>\n",
       "      <td>...</td>\n",
       "      <td>...</td>\n",
       "      <td>...</td>\n",
       "      <td>...</td>\n",
       "      <td>...</td>\n",
       "    </tr>\n",
       "    <tr>\n",
       "      <th>95</th>\n",
       "      <td>82</td>\n",
       "      <td>1</td>\n",
       "      <td>0</td>\n",
       "      <td>64</td>\n",
       "      <td>28</td>\n",
       "      <td>1</td>\n",
       "    </tr>\n",
       "    <tr>\n",
       "      <th>96</th>\n",
       "      <td>35</td>\n",
       "      <td>0</td>\n",
       "      <td>1</td>\n",
       "      <td>8</td>\n",
       "      <td>93</td>\n",
       "      <td>2</td>\n",
       "    </tr>\n",
       "    <tr>\n",
       "      <th>97</th>\n",
       "      <td>96</td>\n",
       "      <td>1</td>\n",
       "      <td>0</td>\n",
       "      <td>99</td>\n",
       "      <td>79</td>\n",
       "      <td>1</td>\n",
       "    </tr>\n",
       "    <tr>\n",
       "      <th>98</th>\n",
       "      <td>65</td>\n",
       "      <td>0</td>\n",
       "      <td>1</td>\n",
       "      <td>51</td>\n",
       "      <td>55</td>\n",
       "      <td>0</td>\n",
       "    </tr>\n",
       "    <tr>\n",
       "      <th>99</th>\n",
       "      <td>50</td>\n",
       "      <td>1</td>\n",
       "      <td>2</td>\n",
       "      <td>41</td>\n",
       "      <td>13</td>\n",
       "      <td>0</td>\n",
       "    </tr>\n",
       "  </tbody>\n",
       "</table>\n",
       "<p>100 rows × 6 columns</p>\n",
       "</div>"
      ],
      "text/plain": [
       "    Subject  User_Language  User_Level  Text_Book  Online_Course  \\\n",
       "0        22              0           0         14             34   \n",
       "1         9              1           1         84             32   \n",
       "2        16              0           2          3             35   \n",
       "3        89              1           0         98             33   \n",
       "4        13              0           1         34             11   \n",
       "..      ...            ...         ...        ...            ...   \n",
       "95       82              1           0         64             28   \n",
       "96       35              0           1          8             93   \n",
       "97       96              1           0         99             79   \n",
       "98       65              0           1         51             55   \n",
       "99       50              1           2         41             13   \n",
       "\n",
       "    Suggested_App  \n",
       "0               2  \n",
       "1               1  \n",
       "2               0  \n",
       "3               2  \n",
       "4               1  \n",
       "..            ...  \n",
       "95              1  \n",
       "96              2  \n",
       "97              1  \n",
       "98              0  \n",
       "99              0  \n",
       "\n",
       "[100 rows x 6 columns]"
      ]
     },
     "execution_count": 35,
     "metadata": {},
     "output_type": "execute_result"
    }
   ],
   "source": [
    "data"
   ]
  },
  {
   "cell_type": "code",
   "execution_count": 36,
   "id": "cdd05721",
   "metadata": {},
   "outputs": [
    {
     "name": "stdout",
     "output_type": "stream",
     "text": [
      "<class 'pandas.core.frame.DataFrame'>\n",
      "RangeIndex: 100 entries, 0 to 99\n",
      "Data columns (total 6 columns):\n",
      " #   Column         Non-Null Count  Dtype\n",
      "---  ------         --------------  -----\n",
      " 0   Subject        100 non-null    int32\n",
      " 1   User_Language  100 non-null    int32\n",
      " 2   User_Level     100 non-null    int32\n",
      " 3   Text_Book      100 non-null    int32\n",
      " 4   Online_Course  100 non-null    int32\n",
      " 5   Suggested_App  100 non-null    int32\n",
      "dtypes: int32(6)\n",
      "memory usage: 2.5 KB\n"
     ]
    }
   ],
   "source": [
    "data.info()"
   ]
  },
  {
   "cell_type": "code",
   "execution_count": 37,
   "id": "db662b65",
   "metadata": {},
   "outputs": [
    {
     "data": {
      "text/plain": [
       "<Axes: >"
      ]
     },
     "execution_count": 37,
     "metadata": {},
     "output_type": "execute_result"
    },
    {
     "data": {
      "image/png": "[encoded data removed]",
      "text/plain": [
       "<Figure size 640x480 with 2 Axes>"
      ]
     },
     "metadata": {},
     "output_type": "display_data"
    }
   ],
   "source": [
    "sns.heatmap(data.corr(),annot=True)"
   ]
  },
  {
   "cell_type": "code",
   "execution_count": 38,
   "id": "0fb9776b",
   "metadata": {},
   "outputs": [
    {
     "ename": "NameError",
     "evalue": "name 'X_encoded' is not defined",
     "output_type": "error",
     "traceback": [
      "\u001b[1;31m---------------------------------------------------------------------------\u001b[0m",
      "\u001b[1;31mNameError\u001b[0m                                 Traceback (most recent call last)",
      "Cell \u001b[1;32mIn[38], line 5\u001b[0m\n\u001b[0;32m      2\u001b[0m df_encoded \u001b[38;5;241m=\u001b[39m data\u001b[38;5;241m.\u001b[39mapply(label_encoder\u001b[38;5;241m.\u001b[39mfit_transform)\n\u001b[0;32m      4\u001b[0m \u001b[38;5;66;03m# Splitting data for Text_Book\u001b[39;00m\n\u001b[1;32m----> 5\u001b[0m X_train_textbook, X_test_textbook, y_textbook_train, y_textbook_test \u001b[38;5;241m=\u001b[39m train_test_split(X_encoded, df_encoded[\u001b[38;5;124m'\u001b[39m\u001b[38;5;124mText_Book\u001b[39m\u001b[38;5;124m'\u001b[39m], test_size\u001b[38;5;241m=\u001b[39m\u001b[38;5;241m0.2\u001b[39m, random_state\u001b[38;5;241m=\u001b[39m\u001b[38;5;241m42\u001b[39m)\n\u001b[0;32m      7\u001b[0m \u001b[38;5;66;03m# Splitting data for Online_Course\u001b[39;00m\n\u001b[0;32m      8\u001b[0m X_train_online_course, X_test_online_course, y_online_course_train, y_online_course_test \u001b[38;5;241m=\u001b[39m train_test_split(X_encoded, df_encoded[\u001b[38;5;124m'\u001b[39m\u001b[38;5;124mOnline_Course\u001b[39m\u001b[38;5;124m'\u001b[39m], test_size\u001b[38;5;241m=\u001b[39m\u001b[38;5;241m0.2\u001b[39m, random_state\u001b[38;5;241m=\u001b[39m\u001b[38;5;241m42\u001b[39m)\n",
      "\u001b[1;31mNameError\u001b[0m: name 'X_encoded' is not defined"
     ]
    }
   ],
   "source": [
    "\n",
    "# Encode categorical columns\n",
    "df_encoded = data.apply(label_encoder.fit_transform)\n",
    "\n",
    "# Splitting data for Text_Book\n",
    "X_train_textbook, X_test_textbook, y_textbook_train, y_textbook_test = train_test_split(X_encoded, df_encoded['Text_Book'], test_size=0.2, random_state=42)\n",
    "\n",
    "# Splitting data for Online_Course\n",
    "X_train_online_course, X_test_online_course, y_online_course_train, y_online_course_test = train_test_split(X_encoded, df_encoded['Online_Course'], test_size=0.2, random_state=42)\n",
    "\n",
    "# Splitting data for Suggested_App\n",
    "X_train_suggested_app, X_test_suggested_app, y_suggested_app_train, y_suggested_app_test = train_test_split(X_encoded, df_encoded['Suggested_App'], test_size=0.2, random_state=42)\n"
   ]
  },
  {
   "cell_type": "code",
   "execution_count": 39,
   "id": "e2c75371",
   "metadata": {},
   "outputs": [
    {
     "ename": "NameError",
     "evalue": "name 'X_train' is not defined",
     "output_type": "error",
     "traceback": [
      "\u001b[1;31m---------------------------------------------------------------------------\u001b[0m",
      "\u001b[1;31mNameError\u001b[0m                                 Traceback (most recent call last)",
      "Cell \u001b[1;32mIn[39], line 3\u001b[0m\n\u001b[0;32m      1\u001b[0m \u001b[38;5;66;03m# Train decision tree classifiers\u001b[39;00m\n\u001b[0;32m      2\u001b[0m textbook_classifier \u001b[38;5;241m=\u001b[39m DecisionTreeClassifier()\n\u001b[1;32m----> 3\u001b[0m textbook_classifier\u001b[38;5;241m.\u001b[39mfit(X_train, y_textbook_train)\n\u001b[0;32m      5\u001b[0m online_course_classifier \u001b[38;5;241m=\u001b[39m DecisionTreeClassifier()\n\u001b[0;32m      6\u001b[0m online_course_classifier\u001b[38;5;241m.\u001b[39mfit(X_train, y_online_course_train)\n",
      "\u001b[1;31mNameError\u001b[0m: name 'X_train' is not defined"
     ]
    }
   ],
   "source": [
    "# Train decision tree classifiers\n",
    "textbook_classifier = DecisionTreeClassifier()\n",
    "textbook_classifier.fit(X_train, y_textbook_train)\n",
    "\n",
    "online_course_classifier = DecisionTreeClassifier()\n",
    "online_course_classifier.fit(X_train, y_online_course_train)\n",
    "\n",
    "suggested_app_classifier = DecisionTreeClassifier()\n",
    "suggested_app_classifier.fit(X_train, y_suggested_app_train)"
   ]
  },
  {
   "cell_type": "code",
   "execution_count": 40,
   "id": "d88c2d78",
   "metadata": {},
   "outputs": [
    {
     "ename": "NameError",
     "evalue": "name 'X_train' is not defined",
     "output_type": "error",
     "traceback": [
      "\u001b[1;31m---------------------------------------------------------------------------\u001b[0m",
      "\u001b[1;31mNameError\u001b[0m                                 Traceback (most recent call last)",
      "Cell \u001b[1;32mIn[40], line 7\u001b[0m\n\u001b[0;32m      5\u001b[0m \u001b[38;5;66;03m# Plot the decision tree for the textbook classifier\u001b[39;00m\n\u001b[0;32m      6\u001b[0m plt\u001b[38;5;241m.\u001b[39mfigure(figsize\u001b[38;5;241m=\u001b[39m(\u001b[38;5;241m20\u001b[39m,\u001b[38;5;241m10\u001b[39m))\n\u001b[1;32m----> 7\u001b[0m plot_tree(textbook_classifier, feature_names\u001b[38;5;241m=\u001b[39mX_train\u001b[38;5;241m.\u001b[39mcolumns, class_names\u001b[38;5;241m=\u001b[39m[\u001b[38;5;28mstr\u001b[39m(class_name) \u001b[38;5;28;01mfor\u001b[39;00m class_name \u001b[38;5;129;01min\u001b[39;00m textbook_classifier\u001b[38;5;241m.\u001b[39mclasses_], filled\u001b[38;5;241m=\u001b[39m\u001b[38;5;28;01mTrue\u001b[39;00m)\n\u001b[0;32m      8\u001b[0m plt\u001b[38;5;241m.\u001b[39mtitle(\u001b[38;5;124m\"\u001b[39m\u001b[38;5;124mDecision Tree for Textbook Classifier\u001b[39m\u001b[38;5;124m\"\u001b[39m)\n\u001b[0;32m      9\u001b[0m plt\u001b[38;5;241m.\u001b[39mshow()\n",
      "\u001b[1;31mNameError\u001b[0m: name 'X_train' is not defined"
     ]
    },
    {
     "data": {
      "text/plain": [
       "<Figure size 2000x1000 with 0 Axes>"
      ]
     },
     "metadata": {},
     "output_type": "display_data"
    }
   ],
   "source": [
    "from sklearn.tree import plot_tree\n",
    "import matplotlib.pyplot as plt\n",
    "\n",
    "\n",
    "# Plot the decision tree for the textbook classifier\n",
    "plt.figure(figsize=(20,10))\n",
    "plot_tree(textbook_classifier, feature_names=X_train.columns, class_names=[str(class_name) for class_name in textbook_classifier.classes_], filled=True)\n",
    "plt.title(\"Decision Tree for Textbook Classifier\")\n",
    "plt.show()\n"
   ]
  },
  {
   "cell_type": "code",
   "execution_count": 41,
   "id": "a0bafd40",
   "metadata": {},
   "outputs": [
    {
     "ename": "NameError",
     "evalue": "name 'online_course_classifier' is not defined",
     "output_type": "error",
     "traceback": [
      "\u001b[1;31m---------------------------------------------------------------------------\u001b[0m",
      "\u001b[1;31mNameError\u001b[0m                                 Traceback (most recent call last)",
      "Cell \u001b[1;32mIn[41], line 3\u001b[0m\n\u001b[0;32m      1\u001b[0m \u001b[38;5;66;03m# Plot the decision tree for the online course classifier\u001b[39;00m\n\u001b[0;32m      2\u001b[0m plt\u001b[38;5;241m.\u001b[39mfigure(figsize\u001b[38;5;241m=\u001b[39m(\u001b[38;5;241m20\u001b[39m,\u001b[38;5;241m10\u001b[39m))\n\u001b[1;32m----> 3\u001b[0m plot_tree(online_course_classifier, feature_names\u001b[38;5;241m=\u001b[39mX_train\u001b[38;5;241m.\u001b[39mcolumns, class_names\u001b[38;5;241m=\u001b[39m[\u001b[38;5;28mstr\u001b[39m(class_name) \u001b[38;5;28;01mfor\u001b[39;00m class_name \u001b[38;5;129;01min\u001b[39;00m online_course_classifier\u001b[38;5;241m.\u001b[39mclasses_], filled\u001b[38;5;241m=\u001b[39m\u001b[38;5;28;01mTrue\u001b[39;00m)\n\u001b[0;32m      4\u001b[0m plt\u001b[38;5;241m.\u001b[39mtitle(\u001b[38;5;124m\"\u001b[39m\u001b[38;5;124mDecision Tree for Online Course Classifier\u001b[39m\u001b[38;5;124m\"\u001b[39m)\n\u001b[0;32m      5\u001b[0m plt\u001b[38;5;241m.\u001b[39mshow()\n",
      "\u001b[1;31mNameError\u001b[0m: name 'online_course_classifier' is not defined"
     ]
    },
    {
     "data": {
      "text/plain": [
       "<Figure size 2000x1000 with 0 Axes>"
      ]
     },
     "metadata": {},
     "output_type": "display_data"
    }
   ],
   "source": [
    "# Plot the decision tree for the online course classifier\n",
    "plt.figure(figsize=(20,10))\n",
    "plot_tree(online_course_classifier, feature_names=X_train.columns, class_names=[str(class_name) for class_name in online_course_classifier.classes_], filled=True)\n",
    "plt.title(\"Decision Tree for Online Course Classifier\")\n",
    "plt.show()"
   ]
  },
  {
   "cell_type": "code",
   "execution_count": 42,
   "id": "f7c5f993",
   "metadata": {},
   "outputs": [
    {
     "ename": "NameError",
     "evalue": "name 'suggested_app_classifier' is not defined",
     "output_type": "error",
     "traceback": [
      "\u001b[1;31m---------------------------------------------------------------------------\u001b[0m",
      "\u001b[1;31mNameError\u001b[0m                                 Traceback (most recent call last)",
      "Cell \u001b[1;32mIn[42], line 3\u001b[0m\n\u001b[0;32m      1\u001b[0m \u001b[38;5;66;03m# Plot the decision tree for the suggested app classifier\u001b[39;00m\n\u001b[0;32m      2\u001b[0m plt\u001b[38;5;241m.\u001b[39mfigure(figsize\u001b[38;5;241m=\u001b[39m(\u001b[38;5;241m20\u001b[39m,\u001b[38;5;241m10\u001b[39m))\n\u001b[1;32m----> 3\u001b[0m plot_tree(suggested_app_classifier, feature_names\u001b[38;5;241m=\u001b[39mX_train\u001b[38;5;241m.\u001b[39mcolumns, class_names\u001b[38;5;241m=\u001b[39m[\u001b[38;5;28mstr\u001b[39m(class_name) \u001b[38;5;28;01mfor\u001b[39;00m class_name \u001b[38;5;129;01min\u001b[39;00m suggested_app_classifier\u001b[38;5;241m.\u001b[39mclasses_], filled\u001b[38;5;241m=\u001b[39m\u001b[38;5;28;01mTrue\u001b[39;00m)\n\u001b[0;32m      4\u001b[0m plt\u001b[38;5;241m.\u001b[39mtitle(\u001b[38;5;124m\"\u001b[39m\u001b[38;5;124mDecision Tree for Suggested App Classifier\u001b[39m\u001b[38;5;124m\"\u001b[39m)\n\u001b[0;32m      5\u001b[0m plt\u001b[38;5;241m.\u001b[39mshow()\n",
      "\u001b[1;31mNameError\u001b[0m: name 'suggested_app_classifier' is not defined"
     ]
    },
    {
     "data": {
      "text/plain": [
       "<Figure size 2000x1000 with 0 Axes>"
      ]
     },
     "metadata": {},
     "output_type": "display_data"
    }
   ],
   "source": [
    "# Plot the decision tree for the suggested app classifier\n",
    "plt.figure(figsize=(20,10))\n",
    "plot_tree(suggested_app_classifier, feature_names=X_train.columns, class_names=[str(class_name) for class_name in suggested_app_classifier.classes_], filled=True)\n",
    "plt.title(\"Decision Tree for Suggested App Classifier\")\n",
    "plt.show()"
   ]
  },
  {
   "cell_type": "code",
   "execution_count": 43,
   "id": "83526c3c",
   "metadata": {},
   "outputs": [
    {
     "name": "stdout",
     "output_type": "stream",
     "text": [
      "Hi! I'm here to assist you in finding the best learning resources for your needs.\n",
      "What subject are you interested in learning about? (e.g., Mathematics, History, Programming) Mathematics\n",
      "What is your current level of expertise in this subject? (e.g., Beginner, Intermediate, Advanced) Beginner\n",
      "What is your preferred language for learning? (e.g., English, Spanish, French) English\n",
      "\n",
      "Great! Let's dive deeper. For Mathematics, are you looking for traditional textbooks, online courses, or perhaps an educational app?\n",
      "Enter your preferred type (Textbooks/Online Courses/Apps) (e.g., Textbooks, Online Courses, Apps): Textbooks\n",
      "\n",
      "Could you also share any specific topics or areas within Mathematics that you're particularly interested in? (e.g., Algebra, World War II, Python programming)\n",
      "Enter specific topic or interest: Textbooks\n",
      "\n",
      "Before we proceed, could you tell me a bit about your learning style and preferences?\n",
      "Do you prefer interactive learning experiences, in-depth theoretical explanations, or practical examples? (e.g., Interactive, Theoretical, Practical) Interactive\n",
      "\n",
      "Lastly, are there any specific features or functionalities you'd like the learning resource to have?\n",
      "Enter specific feature or functionality: no\n",
      "\n",
      "Thank you for providing all those details! Based on what you've shared, I'll now recommend some tailored options for you. Please give me a moment to process your preferences.\n"
     ]
    },
    {
     "ename": "NameError",
     "evalue": "name 'X_encoded' is not defined",
     "output_type": "error",
     "traceback": [
      "\u001b[1;31m---------------------------------------------------------------------------\u001b[0m",
      "\u001b[1;31mNameError\u001b[0m                                 Traceback (most recent call last)",
      "Cell \u001b[1;32mIn[43], line 28\u001b[0m\n\u001b[0;32m     25\u001b[0m input_data_encoded \u001b[38;5;241m=\u001b[39m pd\u001b[38;5;241m.\u001b[39mget_dummies(input_data)\n\u001b[0;32m     27\u001b[0m \u001b[38;5;66;03m# Align input data with training data to ensure the same columns\u001b[39;00m\n\u001b[1;32m---> 28\u001b[0m input_data_encoded \u001b[38;5;241m=\u001b[39m input_data_encoded\u001b[38;5;241m.\u001b[39mreindex(columns\u001b[38;5;241m=\u001b[39mX_encoded\u001b[38;5;241m.\u001b[39mcolumns, fill_value\u001b[38;5;241m=\u001b[39m\u001b[38;5;241m0\u001b[39m)\n\u001b[0;32m     30\u001b[0m textbook_prediction \u001b[38;5;241m=\u001b[39m textbook_classifier\u001b[38;5;241m.\u001b[39mpredict(input_data_encoded)\n\u001b[0;32m     31\u001b[0m online_course_prediction \u001b[38;5;241m=\u001b[39m online_course_classifier\u001b[38;5;241m.\u001b[39mpredict(input_data_encoded)\n",
      "\u001b[1;31mNameError\u001b[0m: name 'X_encoded' is not defined"
     ]
    }
   ],
   "source": [
    "# Conversation with the user\n",
    "print(\"Hi! I'm here to assist you in finding the best learning resources for your needs.\")\n",
    "\n",
    "subject = input(\"What subject are you interested in learning about? (e.g., Mathematics, History, Programming) \")\n",
    "user_level = input(\"What is your current level of expertise in this subject? (e.g., Beginner, Intermediate, Advanced) \")\n",
    "user_language = input(\"What is your preferred language for learning? (e.g., English, Spanish, French) \")\n",
    "\n",
    "print(f\"\\nGreat! Let's dive deeper. For {subject}, are you looking for traditional textbooks, online courses, or perhaps an educational app?\")\n",
    "preferred_type = input(\"Enter your preferred type (Textbooks/Online Courses/Apps) (e.g., Textbooks, Online Courses, Apps): \")\n",
    "\n",
    "print(f\"\\nCould you also share any specific topics or areas within {subject} that you're particularly interested in? (e.g., Algebra, World War II, Python programming)\")\n",
    "specific_topic = input(\"Enter specific topic or interest: \")\n",
    "\n",
    "print(\"\\nBefore we proceed, could you tell me a bit about your learning style and preferences?\")\n",
    "learning_style = input(\"Do you prefer interactive learning experiences, in-depth theoretical explanations, or practical examples? (e.g., Interactive, Theoretical, Practical) \")\n",
    "\n",
    "print(\"\\nLastly, are there any specific features or functionalities you'd like the learning resource to have?\")\n",
    "features = input(\"Enter specific feature or functionality: \")\n",
    "\n",
    "print(\"\\nThank you for providing all those details! Based on what you've shared, I'll now recommend some tailored options for you. Please give me a moment to process your preferences.\")\n",
    "\n",
    "\n",
    "# Recommendation process\n",
    "input_data = pd.DataFrame({'Subject': [subject], 'User_Language': [user_language], 'User_Level': [user_level]})\n",
    "input_data_encoded = pd.get_dummies(input_data)\n",
    "\n",
    "# Align input data with training data to ensure the same columns\n",
    "input_data_encoded = input_data_encoded.reindex(columns=X_encoded.columns, fill_value=0)\n",
    "\n",
    "textbook_prediction = textbook_classifier.predict(input_data_encoded)\n",
    "online_course_prediction = online_course_classifier.predict(input_data_encoded)\n",
    "suggested_app_prediction = suggested_app_classifier.predict(input_data_encoded)\n",
    "\n",
    "# Print recommendations\n",
    "print(\"\\nHere are my recommendations:\")\n",
    "print(\"- Textbook:\", textbook_prediction[0])\n",
    "print(\"- Online Course:\", online_course_prediction[0])\n",
    "print(\"- Suggested App:\", suggested_app_prediction[0])\n",
    "\n",
    "\n",
    "\n",
    "print(\"\\nWould you like more information about any of these recommendations, or is there anything else I can assist you with?\")\n"
   ]
  },
  {
   "cell_type": "code",
   "execution_count": 44,
   "id": "396b00bd",
   "metadata": {},
   "outputs": [
    {
     "ename": "NameError",
     "evalue": "name 'X_test' is not defined",
     "output_type": "error",
     "traceback": [
      "\u001b[1;31m---------------------------------------------------------------------------\u001b[0m",
      "\u001b[1;31mNameError\u001b[0m                                 Traceback (most recent call last)",
      "Cell \u001b[1;32mIn[44], line 3\u001b[0m\n\u001b[0;32m      1\u001b[0m \u001b[38;5;28;01mfrom\u001b[39;00m \u001b[38;5;21;01msklearn\u001b[39;00m\u001b[38;5;21;01m.\u001b[39;00m\u001b[38;5;21;01mmetrics\u001b[39;00m \u001b[38;5;28;01mimport\u001b[39;00m accuracy_score\n\u001b[0;32m      2\u001b[0m \u001b[38;5;66;03m# Predictions for test set\u001b[39;00m\n\u001b[1;32m----> 3\u001b[0m textbook_test_predictions \u001b[38;5;241m=\u001b[39m textbook_classifier\u001b[38;5;241m.\u001b[39mpredict(X_test)\n\u001b[0;32m      4\u001b[0m online_course_test_predictions \u001b[38;5;241m=\u001b[39m online_course_classifier\u001b[38;5;241m.\u001b[39mpredict(X_test)\n\u001b[0;32m      5\u001b[0m suggested_app_test_predictions \u001b[38;5;241m=\u001b[39m suggested_app_classifier\u001b[38;5;241m.\u001b[39mpredict(X_test)\n",
      "\u001b[1;31mNameError\u001b[0m: name 'X_test' is not defined"
     ]
    }
   ],
   "source": [
    "from sklearn.metrics import accuracy_score\n",
    "# Predictions for test set\n",
    "textbook_test_predictions = textbook_classifier.predict(X_test)\n",
    "online_course_test_predictions = online_course_classifier.predict(X_test)\n",
    "suggested_app_test_predictions = suggested_app_classifier.predict(X_test)\n",
    "\n",
    "# Calculate accuracy scores\n",
    "textbook_accuracy = accuracy_score(y_textbook_test, textbook_test_predictions)\n",
    "online_course_accuracy = accuracy_score(y_online_course_test, online_course_test_predictions)\n",
    "suggested_app_accuracy = accuracy_score(y_suggested_app_test, suggested_app_test_predictions)\n",
    "\n",
    "print(\"Text_Book Accuracy:\", textbook_accuracy)\n",
    "print(\"Online_Course Accuracy:\", online_course_accuracy)\n",
    "print(\"Suggested_App Accuracy:\", suggested_app_accuracy)\n"
   ]
  },
  {
   "cell_type": "code",
   "execution_count": null,
   "id": "b88e08f4",
   "metadata": {},
   "outputs": [],
   "source": [
    "import pandas as pd\n",
    "from sklearn.model_selection import train_test_split\n",
    "from sklearn.tree import DecisionTreeClassifier\n",
    "from sklearn.preprocessing import LabelEncoder\n",
    "\n",
    "\n",
    "\n",
    "# Separate features (X) and target variables (y)\n",
    "X = data.drop(columns=['Text_Book', 'Online_Course', 'Suggested_App'])  # Features\n",
    "y_textbook = data['Text_Book']  # Target variable for Textbook\n",
    "y_online_course = data['Online_Course']  # Target variable for Online Course\n",
    "y_suggested_app = data['Suggested_App']  # Target variable for Suggested App\n",
    "\n",
    "# Split the data into training and testing sets for each target variable\n",
    "X_train, X_test, y_textbook_train, y_textbook_test = train_test_split(X, y_textbook, test_size=0.2, random_state=42)\n",
    "X_train, X_test, y_online_course_train, y_online_course_test = train_test_split(X, y_online_course, test_size=0.2, random_state=42)\n",
    "X_train, X_test, y_suggested_app_train, y_suggested_app_test = train_test_split(X, y_suggested_app, test_size=0.2, random_state=42)\n",
    "\n",
    "# Train decision tree classifiers for each target variable\n",
    "textbook_classifier = DecisionTreeClassifier()\n",
    "textbook_classifier.fit(X_train, y_textbook_train)\n",
    "\n",
    "online_course_classifier = DecisionTreeClassifier()\n",
    "online_course_classifier.fit(X_train, y_online_course_train)\n",
    "\n",
    "suggested_app_classifier = DecisionTreeClassifier()\n",
    "suggested_app_classifier.fit(X_train, y_suggested_app_train)\n",
    "\n",
    "# Conversation with the user\n",
    "print(\"Hi! I'm here to assist you in finding the best learning resources for your needs.\")\n",
    "\n",
    "subject = input(\"What subject are you interested in learning about? (e.g., Mathematics, History, Programming) \")\n",
    "user_level = input(\"What is your current level of expertise in this subject? (e.g., Beginner, Intermediate, Advanced) \")\n",
    "user_language = input(\"What is your preferred language for learning? (e.g., English, Spanish, French) \")\n",
    "\n",
    "print(f\"\\nGreat! Let's dive deeper. For {subject}, are you looking for traditional textbooks, online courses, or perhaps an educational app?\")\n",
    "preferred_type = input(\"Enter your preferred type (Textbooks/Online Courses/Apps) (e.g., Textbooks, Online Courses, Apps): \")\n",
    "\n",
    "print(f\"\\nCould you also share any specific topics or areas within {subject} that you're particularly interested in? (e.g., Algebra, World War II, Python programming)\")\n",
    "specific_topic = input(\"Enter specific topic or interest: \")\n",
    "\n",
    "print(\"\\nBefore we proceed, could you tell me a bit about your learning style and preferences?\")\n",
    "learning_style = input(\"Do you prefer interactive learning experiences, in-depth theoretical explanations, or practical examples? (e.g., Interactive, Theoretical, Practical) \")\n",
    "\n",
    "print(\"\\nLastly, are there any specific features or functionalities you'd like the learning resource to have?\")\n",
    "features = input(\"Enter specific feature or functionality: \")\n",
    "\n",
    "print(\"\\nThank you for providing all those details! Based on what you've shared, I'll now recommend some tailored options for you. Please give me a moment to process your preferences.\")\n",
    "\n",
    "# Recommendation process\n",
    "input_data = pd.DataFrame({'Subject': [subject], 'User_Language': [user_language], 'User_Level': [user_level]})\n",
    "input_data_encoded = pd.get_dummies(input_data)\n",
    "\n",
    "# Align input data with training data to ensure the same columns\n",
    "input_data_encoded = input_data_encoded.reindex(columns=X.columns, fill_value=0)\n",
    "\n",
    "# Predictions\n",
    "textbook_prediction = textbook_classifier.predict(input_data_encoded)\n",
    "online_course_prediction = online_course_classifier.predict(input_data_encoded)\n",
    "suggested_app_prediction = suggested_app_classifier.predict(input_data_encoded)\n",
    "\n",
    "# Print recommendations\n",
    "print(\"\\nHere are my recommendations:\")\n",
    "print(\"- Textbook:\", textbook_prediction[0])\n",
    "print(\"- Online Course:\", online_course_prediction[0])\n",
    "print(\"- Suggested App:\", suggested_app_prediction[0])\n",
    "\n",
    "print(\"\\nWould you like more information about any of these recommendations, or is there anything else I can assist you with?\")\n"
   ]
  },
  {
   "cell_type": "code",
   "execution_count": null,
   "id": "fe5b608c",
   "metadata": {},
   "outputs": [],
   "source": []
  }
 ],
 "metadata": {
  "kernelspec": {
   "display_name": "Python 3 (ipykernel)",
   "language": "python",
   "name": "python3"
  },
  "language_info": {
   "codemirror_mode": {
    "name": "ipython",
    "version": 3
   },
   "file_extension": ".py",
   "mimetype": "text/x-python",
   "name": "python",
   "nbconvert_exporter": "python",
   "pygments_lexer": "ipython3",
   "version": "3.11.3"
  }
 },
 "nbformat": 4,
 "nbformat_minor": 5
}
